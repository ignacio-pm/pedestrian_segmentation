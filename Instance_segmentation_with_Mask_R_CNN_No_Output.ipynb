{
  "nbformat": 4,
  "nbformat_minor": 0,
  "metadata": {
    "accelerator": "GPU",
    "colab": {
      "name": "Instance_segmentation with Mask R-CNN.ipynb",
      "provenance": [],
      "collapsed_sections": [
        "qV6VmaF1liRF"
      ]
    },
    "kernelspec": {
      "display_name": "Python 3",
      "language": "python",
      "name": "python3"
    },
    "language_info": {
      "codemirror_mode": {
        "name": "ipython",
        "version": 3
      },
      "file_extension": ".py",
      "mimetype": "text/x-python",
      "name": "python",
      "nbconvert_exporter": "python",
      "pygments_lexer": "ipython3",
      "version": "3.6.4"
    },
    "widgets": {
      "application/vnd.jupyter.widget-state+json": {
        "225ac444a31a4568bf8521b40922924c": {
          "model_module": "@jupyter-widgets/controls",
          "model_name": "HBoxModel",
          "model_module_version": "1.5.0",
          "state": {
            "_dom_classes": [],
            "_model_module": "@jupyter-widgets/controls",
            "_model_module_version": "1.5.0",
            "_model_name": "HBoxModel",
            "_view_count": null,
            "_view_module": "@jupyter-widgets/controls",
            "_view_module_version": "1.5.0",
            "_view_name": "HBoxView",
            "box_style": "",
            "children": [
              "IPY_MODEL_2ebe15bbbe744844b7dc3c0393da493c",
              "IPY_MODEL_c527779a60b5445a832449cfbe7f6a7d"
            ],
            "layout": "IPY_MODEL_8967e0236c27482da42175d49eaca720"
          }
        },
        "2ebe15bbbe744844b7dc3c0393da493c": {
          "model_module": "@jupyter-widgets/controls",
          "model_name": "FloatProgressModel",
          "model_module_version": "1.5.0",
          "state": {
            "_dom_classes": [],
            "_model_module": "@jupyter-widgets/controls",
            "_model_module_version": "1.5.0",
            "_model_name": "FloatProgressModel",
            "_view_count": null,
            "_view_module": "@jupyter-widgets/controls",
            "_view_module_version": "1.5.0",
            "_view_name": "ProgressView",
            "bar_style": "success",
            "description": "100%",
            "description_tooltip": null,
            "layout": "IPY_MODEL_cdc959f1c4f3497ea9398ec13b730a69",
            "max": 178090079,
            "min": 0,
            "orientation": "horizontal",
            "style": "IPY_MODEL_4ccbafa9c60947d38d8a3a09801faa7d",
            "value": 178090079
          }
        },
        "c527779a60b5445a832449cfbe7f6a7d": {
          "model_module": "@jupyter-widgets/controls",
          "model_name": "HTMLModel",
          "model_module_version": "1.5.0",
          "state": {
            "_dom_classes": [],
            "_model_module": "@jupyter-widgets/controls",
            "_model_module_version": "1.5.0",
            "_model_name": "HTMLModel",
            "_view_count": null,
            "_view_module": "@jupyter-widgets/controls",
            "_view_module_version": "1.5.0",
            "_view_name": "HTMLView",
            "description": "",
            "description_tooltip": null,
            "layout": "IPY_MODEL_917c53c8b4e344978207f8afd6901e69",
            "placeholder": "​",
            "style": "IPY_MODEL_e40305cc9d144049b72ee70edf06e427",
            "value": " 170M/170M [08:10&lt;00:00, 363kB/s]"
          }
        },
        "8967e0236c27482da42175d49eaca720": {
          "model_module": "@jupyter-widgets/base",
          "model_name": "LayoutModel",
          "model_module_version": "1.2.0",
          "state": {
            "_model_module": "@jupyter-widgets/base",
            "_model_module_version": "1.2.0",
            "_model_name": "LayoutModel",
            "_view_count": null,
            "_view_module": "@jupyter-widgets/base",
            "_view_module_version": "1.2.0",
            "_view_name": "LayoutView",
            "align_content": null,
            "align_items": null,
            "align_self": null,
            "border": null,
            "bottom": null,
            "display": null,
            "flex": null,
            "flex_flow": null,
            "grid_area": null,
            "grid_auto_columns": null,
            "grid_auto_flow": null,
            "grid_auto_rows": null,
            "grid_column": null,
            "grid_gap": null,
            "grid_row": null,
            "grid_template_areas": null,
            "grid_template_columns": null,
            "grid_template_rows": null,
            "height": null,
            "justify_content": null,
            "justify_items": null,
            "left": null,
            "margin": null,
            "max_height": null,
            "max_width": null,
            "min_height": null,
            "min_width": null,
            "object_fit": null,
            "object_position": null,
            "order": null,
            "overflow": null,
            "overflow_x": null,
            "overflow_y": null,
            "padding": null,
            "right": null,
            "top": null,
            "visibility": null,
            "width": null
          }
        },
        "cdc959f1c4f3497ea9398ec13b730a69": {
          "model_module": "@jupyter-widgets/base",
          "model_name": "LayoutModel",
          "model_module_version": "1.2.0",
          "state": {
            "_model_module": "@jupyter-widgets/base",
            "_model_module_version": "1.2.0",
            "_model_name": "LayoutModel",
            "_view_count": null,
            "_view_module": "@jupyter-widgets/base",
            "_view_module_version": "1.2.0",
            "_view_name": "LayoutView",
            "align_content": null,
            "align_items": null,
            "align_self": null,
            "border": null,
            "bottom": null,
            "display": null,
            "flex": null,
            "flex_flow": null,
            "grid_area": null,
            "grid_auto_columns": null,
            "grid_auto_flow": null,
            "grid_auto_rows": null,
            "grid_column": null,
            "grid_gap": null,
            "grid_row": null,
            "grid_template_areas": null,
            "grid_template_columns": null,
            "grid_template_rows": null,
            "height": null,
            "justify_content": null,
            "justify_items": null,
            "left": null,
            "margin": null,
            "max_height": null,
            "max_width": null,
            "min_height": null,
            "min_width": null,
            "object_fit": null,
            "object_position": null,
            "order": null,
            "overflow": null,
            "overflow_x": null,
            "overflow_y": null,
            "padding": null,
            "right": null,
            "top": null,
            "visibility": null,
            "width": null
          }
        },
        "4ccbafa9c60947d38d8a3a09801faa7d": {
          "model_module": "@jupyter-widgets/controls",
          "model_name": "ProgressStyleModel",
          "model_module_version": "1.5.0",
          "state": {
            "_model_module": "@jupyter-widgets/controls",
            "_model_module_version": "1.5.0",
            "_model_name": "ProgressStyleModel",
            "_view_count": null,
            "_view_module": "@jupyter-widgets/base",
            "_view_module_version": "1.2.0",
            "_view_name": "StyleView",
            "bar_color": null,
            "description_width": "initial"
          }
        },
        "917c53c8b4e344978207f8afd6901e69": {
          "model_module": "@jupyter-widgets/base",
          "model_name": "LayoutModel",
          "model_module_version": "1.2.0",
          "state": {
            "_model_module": "@jupyter-widgets/base",
            "_model_module_version": "1.2.0",
            "_model_name": "LayoutModel",
            "_view_count": null,
            "_view_module": "@jupyter-widgets/base",
            "_view_module_version": "1.2.0",
            "_view_name": "LayoutView",
            "align_content": null,
            "align_items": null,
            "align_self": null,
            "border": null,
            "bottom": null,
            "display": null,
            "flex": null,
            "flex_flow": null,
            "grid_area": null,
            "grid_auto_columns": null,
            "grid_auto_flow": null,
            "grid_auto_rows": null,
            "grid_column": null,
            "grid_gap": null,
            "grid_row": null,
            "grid_template_areas": null,
            "grid_template_columns": null,
            "grid_template_rows": null,
            "height": null,
            "justify_content": null,
            "justify_items": null,
            "left": null,
            "margin": null,
            "max_height": null,
            "max_width": null,
            "min_height": null,
            "min_width": null,
            "object_fit": null,
            "object_position": null,
            "order": null,
            "overflow": null,
            "overflow_x": null,
            "overflow_y": null,
            "padding": null,
            "right": null,
            "top": null,
            "visibility": null,
            "width": null
          }
        },
        "e40305cc9d144049b72ee70edf06e427": {
          "model_module": "@jupyter-widgets/controls",
          "model_name": "DescriptionStyleModel",
          "model_module_version": "1.5.0",
          "state": {
            "_model_module": "@jupyter-widgets/controls",
            "_model_module_version": "1.5.0",
            "_model_name": "DescriptionStyleModel",
            "_view_count": null,
            "_view_module": "@jupyter-widgets/base",
            "_view_module_version": "1.2.0",
            "_view_name": "StyleView",
            "description_width": ""
          }
        }
      }
    }
  },
  "cells": [
    {
      "cell_type": "markdown",
      "metadata": {
        "id": "DfPPQ6ztJhv4"
      },
      "source": [
        "# Hands-on Deep Learning Project. Instance segmentation with Mask-CNN\n",
        "\n",
        "\n",
        "\n",
        "\n",
        "In this project, a pre-trained [Mask R-CNN](https://arxiv.org/abs/1703.06870) model will be finetuned to the [*Penn-Fudan Database for Pedestrian Detection and Segmentation*](https://www.cis.upenn.edu/~jshi/ped_html/). The results will be compared to a [Faster R-CNN](https://arxiv.org/pdf/1506.01497.pdf) model with [SqueezeNet](https://arxiv.org/abs/1602.07360) as a backbone. \n",
        "\n",
        "The dataset contains 170 images with 345 instances of pedestrians, and we will evaluate both models with the Average Precision. The project is based on and has parts of code from this [Torchvision tutorial](https://pytorch.org/tutorials/intermediate/torchvision_tutorial.html) \n",
        "\n",
        "\n",
        "The link to the paper can be found [here](https://www.linkedin.com/posts/ignacio-perez-mahiques_pedrestrian-instance-segmentation-with-mask-activity-6841263932963856386-4BE_)."
      ]
    },
    {
      "cell_type": "markdown",
      "metadata": {
        "id": "bzo8XQoperhZ"
      },
      "source": [
        "### Necessary imports and checking virtual machine"
      ]
    },
    {
      "cell_type": "markdown",
      "metadata": {
        "id": "0uFbVHEw2Xzc"
      },
      "source": [
        "First, we need to install `pycocotools`. This library will be used for computing the evaluation metrics following the metrics of Average Precision for different for Intersection over Unions used in the Mask R-CNN paper."
      ]
    },
    {
      "cell_type": "code",
      "metadata": {
        "colab": {
          "base_uri": "https://localhost:8080/"
        },
        "id": "DBIoe_tHTQgV",
        "outputId": "fdd205af-2e41-41c7-8883-b4ed3570a957"
      },
      "source": [
        "%%shell\n",
        "\n",
        "pip install cython\n",
        "# Install pycocotools, the version by default in Colab\n",
        "# has a bug fixed in https://github.com/cocodataset/cocoapi/pull/354\n",
        "pip install -U 'git+https://github.com/cocodataset/cocoapi.git#subdirectory=PythonAPI'"
      ],
      "execution_count": null,
      "outputs": []
    },
    {
      "cell_type": "markdown",
      "metadata": {
        "id": "M3Cb0MKQnbkw"
      },
      "source": [
        "Since we are working in a virtual environment it is important to check the GPU type to contrast the performance of the algorithm with other applications"
      ]
    },
    {
      "cell_type": "code",
      "metadata": {
        "colab": {
          "base_uri": "https://localhost:8080/"
        },
        "id": "hK-uJD7Pna-c",
        "outputId": "5671026d-fecc-4e67-a846-6e9dbdfd0589"
      },
      "source": [
        "from tensorflow.python.client import device_lib\n",
        "device_lib.list_local_devices()"
      ],
      "execution_count": null,
      "outputs": []
    },
    {
      "cell_type": "markdown",
      "metadata": {
        "id": "5Sd4jlGp2eLm"
      },
      "source": [
        "## Defining the Dataset\n",
        "\n",
        "The [torchvision reference scripts for training object detection, instance segmentation and person keypoint detection](https://github.com/pytorch/vision/tree/v0.3.0/references/detection) allows for easily supporting adding new custom datasets.\n",
        "The dataset should inherit from the standard `torch.utils.data.Dataset` class, and implement `__len__` and `__getitem__`.\n",
        "\n",
        "The only specificity that we require is that the dataset `__getitem__` should return:\n",
        "\n",
        "* image: a PIL Image of size (H, W)\n",
        "* target: a dict containing the following fields\n",
        "    * `boxes` (`FloatTensor[N, 4]`): the coordinates of the `N` bounding boxes in `[x0, y0, x1, y1]` format, ranging from `0` to `W` and `0` to `H`\n",
        "    * `labels` (`Int64Tensor[N]`): the label for each bounding box\n",
        "    * `image_id` (`Int64Tensor[1]`): an image identifier. It should be unique between all the images in the dataset, and is used during evaluation\n",
        "    * `area` (`Tensor[N]`): The area of the bounding box. This is used during evaluation with the COCO metric, to separate the metric scores between small, medium and large boxes.\n",
        "    * `iscrowd` (`UInt8Tensor[N]`): instances with `iscrowd=True` will be ignored during evaluation.\n",
        "    * (optionally) `masks` (`UInt8Tensor[N, H, W]`): The segmentation masks for each one of the objects\n",
        "    * (optionally) `keypoints` (`FloatTensor[N, K, 3]`): For each one of the `N` objects, it contains the `K` keypoints in `[x, y, visibility]` format, defining the object. `visibility=0` means that the keypoint is not visible. Note that for data augmentation, the notion of flipping a keypoint is dependent on the data representation, and you should probably adapt `references/detection/transforms.py` for your new keypoint representation\n",
        "\n",
        "If your model returns the above methods, they will make it work for both training and evaluation, and will use the evaluation scripts from pycocotools.\n",
        "\n",
        "Additionally, if you want to use aspect ratio grouping during training (so that each batch only contains images with similar aspect ratio), then it is recommended to also implement a `get_height_and_width` method, which returns the height and the width of the image. If this method is not provided, we query all elements of the dataset via `__getitem__` , which loads the image in memory and is slower than if a custom method is provided.\n"
      ]
    },
    {
      "cell_type": "markdown",
      "metadata": {
        "id": "bX0rqK-A3Nbl"
      },
      "source": [
        "### Download the dataset\n",
        "\n",
        "\n",
        "First, we download and extract the data, present in a zip file at https://www.cis.upenn.edu/~jshi/ped_html/PennFudanPed.zip"
      ]
    },
    {
      "cell_type": "code",
      "metadata": {
        "colab": {
          "base_uri": "https://localhost:8080/"
        },
        "id": "_t4TBwhHTdkd",
        "outputId": "59f9b2fb-ac7a-4219-d3f5-402a9bac5470"
      },
      "source": [
        "%%shell\n",
        "\n",
        "# download the Penn-Fudan dataset\n",
        "wget https://www.cis.upenn.edu/~jshi/ped_html/PennFudanPed.zip .\n",
        "# extract it in the current folder\n",
        "unzip PennFudanPed.zip"
      ],
      "execution_count": null,
      "outputs": []
    },
    {
      "cell_type": "markdown",
      "metadata": {
        "id": "PKlAsvzb3O0x"
      },
      "source": [
        "### Visualize the dataset"
      ]
    },
    {
      "cell_type": "markdown",
      "metadata": {
        "id": "WfwuU-jI3j93"
      },
      "source": [
        "The data is structured as follows\n",
        "```\n",
        "PennFudanPed/\n",
        "  PedMasks/\n",
        "    FudanPed00001_mask.png\n",
        "    FudanPed00002_mask.png\n",
        "    FudanPed00003_mask.png\n",
        "    FudanPed00004_mask.png\n",
        "    ...\n",
        "  PNGImages/\n",
        "    FudanPed00001.png\n",
        "    FudanPed00002.png\n",
        "    FudanPed00003.png\n",
        "    FudanPed00004.png\n",
        "```\n",
        "\n",
        "One example of an image in the dataset, with its corresponding instance segmentation mask is shown below"
      ]
    },
    {
      "cell_type": "code",
      "metadata": {
        "colab": {
          "base_uri": "https://localhost:8080/",
          "height": 463
        },
        "id": "LDjuVFgexFfh",
        "outputId": "da30a98d-cb51-4610-a652-f4da6df81290"
      },
      "source": [
        "from PIL import Image\n",
        "Image.open('PennFudanPed/PNGImages/FudanPed00001.png')"
      ],
      "execution_count": null,
      "outputs": []
    },
    {
      "cell_type": "code",
      "metadata": {
        "colab": {
          "base_uri": "https://localhost:8080/",
          "height": 573
        },
        "id": "cFHKCvCTxiff",
        "outputId": "22a90d18-490e-4580-9515-eceac8072ed4"
      },
      "source": [
        "mask = Image.open('PennFudanPed/PedMasks/FudanPed00001_mask.png')\n",
        "# each mask instance has a different color, from zero to N, where\n",
        "# N is the number of instances. In order to make visualization easier,\n",
        "# we add a color palette to the mask.\n",
        "mask.putpalette([\n",
        "    0, 0, 0, # black background\n",
        "    255, 0, 0, # index 1 is red\n",
        "    255, 255, 0, # index 2 is yellow\n",
        "    255, 153, 0, # index 3 is orange\n",
        "])\n",
        "mask"
      ],
      "execution_count": null,
      "outputs": []
    },
    {
      "cell_type": "markdown",
      "metadata": {
        "id": "C9Ee5NV54Dmj"
      },
      "source": [
        "### Write a custom Dataset class for this Dataset\n",
        "\n",
        "So each image has a corresponding segmentation mask, where each color correspond to a different instance. We write a `torch.utils.data.Dataset` class for this dataset."
      ]
    },
    {
      "cell_type": "code",
      "metadata": {
        "id": "mTgWtixZTs3X"
      },
      "source": [
        "import os\n",
        "import numpy as np\n",
        "import torch\n",
        "import torch.utils.data\n",
        "from PIL import Image\n",
        "import matplotlib.pyplot as plt\n",
        "\n",
        "class PennFudanDataset(torch.utils.data.Dataset):\n",
        "    def __init__(self, root, transforms=None):\n",
        "        self.root = root\n",
        "        self.transforms = transforms\n",
        "        # load all image files, sorting them to\n",
        "        # ensure that they are aligned\n",
        "        self.imgs = list(sorted(os.listdir(os.path.join(root, \"PNGImages\"))))\n",
        "        self.masks = list(sorted(os.listdir(os.path.join(root, \"PedMasks\"))))\n",
        "\n",
        "    def __getitem__(self, idx):\n",
        "        # load images ad masks\n",
        "        img_path = os.path.join(self.root, \"PNGImages\", self.imgs[idx])\n",
        "        mask_path = os.path.join(self.root, \"PedMasks\", self.masks[idx])\n",
        "        img = Image.open(img_path).convert(\"RGB\")\n",
        "        # note that we haven't converted the mask to RGB,\n",
        "        # because each color corresponds to a different instance\n",
        "        # with 0 being background\n",
        "        mask = Image.open(mask_path)\n",
        "\n",
        "        mask = np.array(mask)\n",
        "        # instances are encoded as different colors\n",
        "        obj_ids = np.unique(mask)\n",
        "        # first id is the background, so remove it\n",
        "        obj_ids = obj_ids[1:]\n",
        "\n",
        "        # split the color-encoded mask into a set\n",
        "        # of binary masks\n",
        "        masks = mask == obj_ids[:, None, None]\n",
        "\n",
        "        # get bounding box coordinates for each mask\n",
        "        num_objs = len(obj_ids)\n",
        "        boxes = []\n",
        "        for i in range(num_objs):\n",
        "            pos = np.where(masks[i])\n",
        "            xmin = np.min(pos[1])\n",
        "            xmax = np.max(pos[1])\n",
        "            ymin = np.min(pos[0])\n",
        "            ymax = np.max(pos[0])\n",
        "            boxes.append([xmin, ymin, xmax, ymax])\n",
        "\n",
        "        boxes = torch.as_tensor(boxes, dtype=torch.float32)\n",
        "        # there is only one class\n",
        "        labels = torch.ones((num_objs,), dtype=torch.int64)\n",
        "        masks = torch.as_tensor(masks, dtype=torch.uint8)\n",
        "\n",
        "        image_id = torch.tensor([idx])\n",
        "        area = (boxes[:, 3] - boxes[:, 1]) * (boxes[:, 2] - boxes[:, 0])\n",
        "        # suppose all instances are not crowd\n",
        "        iscrowd = torch.zeros((num_objs,), dtype=torch.int64)\n",
        "\n",
        "        target = {}\n",
        "        target[\"boxes\"] = boxes\n",
        "        target[\"labels\"] = labels\n",
        "        target[\"masks\"] = masks\n",
        "        target[\"image_id\"] = image_id\n",
        "        target[\"area\"] = area\n",
        "        target[\"iscrowd\"] = iscrowd\n",
        "\n",
        "        if self.transforms is not None:\n",
        "            img, target = self.transforms(img, target)\n",
        "\n",
        "        return img, target\n",
        "\n",
        "    def __len__(self):\n",
        "        return len(self.imgs)"
      ],
      "execution_count": null,
      "outputs": []
    },
    {
      "cell_type": "markdown",
      "metadata": {
        "id": "J6f3ZOTJ4Km9"
      },
      "source": [
        "The outputs of this dataset are as follows. It is important that they match to the torchvision requirements"
      ]
    },
    {
      "cell_type": "code",
      "metadata": {
        "colab": {
          "base_uri": "https://localhost:8080/"
        },
        "id": "ZEARO4B_ye0s",
        "outputId": "45c2872b-cca7-4ee4-f115-b109ace56969"
      },
      "source": [
        "dataset = PennFudanDataset('PennFudanPed/')\n",
        "dataset[0]"
      ],
      "execution_count": null,
      "outputs": []
    },
    {
      "cell_type": "markdown",
      "metadata": {
        "id": "lWOhcsir9Ahx"
      },
      "source": [
        "So we can see that by default, the dataset returns a `PIL.Image` and a dictionary\n",
        "containing several fields, including `boxes`, `labels` and `masks`."
      ]
    },
    {
      "cell_type": "markdown",
      "metadata": {
        "id": "RoAEkUgn4uEq"
      },
      "source": [
        "## Defining your model\n",
        "\n",
        "In this tutorial, a [Mask R-CNN](https://arxiv.org/abs/1703.06870) model will be used, which is based on top of [Faster R-CNN](https://arxiv.org/abs/1506.01497). Faster R-CNN is a neural network that predicts both bounding boxes and class scores for potential objects in the image.\n",
        "\n",
        "![Faster R-CNN](https://raw.githubusercontent.com/pytorch/vision/temp-tutorial/tutorials/tv_image03.png)\n",
        "\n",
        "Mask R-CNN adds an extra branch into Faster R-CNN, which also predicts segmentation masks for each instance.\n",
        "\n",
        "![Mask R-CNN](https://raw.githubusercontent.com/pytorch/vision/temp-tutorial/tutorials/tv_image04.png)\n",
        "\n",
        "There are two common situations where one might want to modify one of the available models in torchvision modelzoo.\n",
        "The first is when we want to start from a pre-trained model, and just finetune the last layer. The other is when we want to replace the backbone of the model with a different one (for faster predictions, for example).\n",
        "\n",
        "In this project, first we will finetune the model to our dataset and then change the backbone of a Faster R-CNN to decrease the memory usage and the training and predicting time. But first some tasks have to done in order to train the model."
      ]
    },
    {
      "cell_type": "markdown",
      "metadata": {
        "id": "-WXLwePV5ieP"
      },
      "source": [
        "\n",
        "### Training and evaluation helper functions\n",
        "\n",
        "In `references/detection/,` we have a number of helper functions to simplify training and evaluating detection models.\n",
        "Here, we will use `references/detection/engine.py`, `references/detection/utils.py` and `references/detection/transforms.py`.\n",
        "\n",
        "Let's copy those files (and their dependencies) in here so that they are available in the notebook"
      ]
    },
    {
      "cell_type": "code",
      "metadata": {
        "colab": {
          "base_uri": "https://localhost:8080/"
        },
        "id": "UYDb7PBw55b-",
        "outputId": "a73ac32a-8bd1-49aa-bac2-b7721bece91b"
      },
      "source": [
        "%%shell\n",
        "\n",
        "# Download TorchVision repo to use some files from\n",
        "# references/detection\n",
        "git clone https://github.com/pytorch/vision.git\n",
        "cd vision\n",
        "git checkout v0.3.0\n",
        "\n",
        "cp references/detection/utils.py ../\n",
        "cp references/detection/transforms.py ../\n",
        "cp references/detection/coco_eval.py ../\n",
        "cp references/detection/engine.py ../\n",
        "cp references/detection/coco_utils.py ../"
      ],
      "execution_count": null,
      "outputs": []
    },
    {
      "cell_type": "code",
      "metadata": {
        "id": "kMr-659ckYlL"
      },
      "source": [
        "import math\n",
        "import sys\n",
        "import time\n",
        "import torch\n",
        "\n",
        "import torchvision.models.detection.mask_rcnn\n",
        "\n",
        "from coco_utils import get_coco_api_from_dataset\n",
        "from coco_eval import CocoEvaluator\n",
        "import utils\n",
        "\n",
        "\n",
        "def train_one_epoch(model, optimizer, data_loader, device, epoch, print_freq):\n",
        "    model.train()\n",
        "    metric_logger = utils.MetricLogger(delimiter=\"  \")\n",
        "    metric_logger.add_meter('lr', utils.SmoothedValue(window_size=1, fmt='{value:.6f}'))\n",
        "    header = 'Epoch: [{}]'.format(epoch)\n",
        "\n",
        "    lr_scheduler = None\n",
        "    if epoch == 0:\n",
        "        warmup_factor = 1. / 1000\n",
        "        warmup_iters = min(1000, len(data_loader) - 1)\n",
        "\n",
        "        lr_scheduler = utils.warmup_lr_scheduler(optimizer, warmup_iters, warmup_factor)\n",
        "\n",
        "    for images, targets in metric_logger.log_every(data_loader, print_freq, header):\n",
        "        images = list(image.to(device) for image in images)\n",
        "        targets = [{k: v.to(device) for k, v in t.items()} for t in targets]\n",
        "\n",
        "        loss_dict = model(images, targets)\n",
        "        \n",
        "        losses = sum(loss for loss in loss_dict.values())\n",
        "\n",
        "        # reduce losses over all GPUs for logging purposes\n",
        "        loss_dict_reduced = utils.reduce_dict(loss_dict)\n",
        "        losses_reduced = sum(loss for loss in loss_dict_reduced.values())\n",
        "\n",
        "        loss_value = losses_reduced.item()\n",
        "\n",
        "        if not math.isfinite(loss_value):\n",
        "            print(\"Loss is {}, stopping training\".format(loss_value))\n",
        "            print(loss_dict_reduced)\n",
        "            sys.exit(1)\n",
        "\n",
        "        optimizer.zero_grad()\n",
        "        losses.backward()\n",
        "        optimizer.step()\n",
        "\n",
        "        if lr_scheduler is not None:\n",
        "            lr_scheduler.step()\n",
        "\n",
        "        metric_logger.update(loss=losses_reduced, **loss_dict_reduced)\n",
        "        metric_logger.update(lr=optimizer.param_groups[0][\"lr\"])\n",
        "\n",
        "    return metric_logger\n",
        "\n",
        "\n",
        "def _get_iou_types(model):\n",
        "    model_without_ddp = model\n",
        "    if isinstance(model, torch.nn.parallel.DistributedDataParallel):\n",
        "        model_without_ddp = model.module\n",
        "    iou_types = [\"bbox\"]\n",
        "    if isinstance(model_without_ddp, torchvision.models.detection.MaskRCNN):\n",
        "        iou_types.append(\"segm\")\n",
        "    if isinstance(model_without_ddp, torchvision.models.detection.KeypointRCNN):\n",
        "        iou_types.append(\"keypoints\")\n",
        "    return iou_types\n",
        "\n",
        "\n",
        "@torch.no_grad()\n",
        "def evaluate(model, data_loader, device):\n",
        "    n_threads = torch.get_num_threads()\n",
        "    # FIXME remove this and make paste_masks_in_image run on the GPU\n",
        "    torch.set_num_threads(1)\n",
        "    cpu_device = torch.device(\"cpu\")\n",
        "    model.eval()\n",
        "    metric_logger = utils.MetricLogger(delimiter=\"  \")\n",
        "    header = 'Test:'\n",
        "\n",
        "    coco = get_coco_api_from_dataset(data_loader.dataset)\n",
        "    iou_types = _get_iou_types(model)\n",
        "    coco_evaluator = CocoEvaluator(coco, iou_types)\n",
        "\n",
        "    for images, targets in metric_logger.log_every(data_loader, 100, header):\n",
        "        images = list(img.to(device) for img in images)\n",
        "\n",
        "        torch.cuda.synchronize()\n",
        "        model_time = time.time()\n",
        "        outputs = model(images)\n",
        "\n",
        "        outputs = [{k: v.to(cpu_device) for k, v in t.items()} for t in outputs]\n",
        "        model_time = time.time() - model_time\n",
        "\n",
        "        res = {target[\"image_id\"].item(): output for target, output in zip(targets, outputs)}\n",
        "        evaluator_time = time.time()\n",
        "        coco_evaluator.update(res)\n",
        "        evaluator_time = time.time() - evaluator_time\n",
        "        metric_logger.update(model_time=model_time, evaluator_time=evaluator_time)\n",
        "\n",
        "    # gather the stats from all processes\n",
        "    metric_logger.synchronize_between_processes()\n",
        "    print(\"Averaged stats:\", metric_logger)\n",
        "    coco_evaluator.synchronize_between_processes()\n",
        "\n",
        "    # accumulate predictions from all images\n",
        "    coco_evaluator.accumulate()\n",
        "    coco_evaluator.summarize()\n",
        "    torch.set_num_threads(n_threads)\n",
        "    return coco_evaluator"
      ],
      "execution_count": null,
      "outputs": []
    },
    {
      "cell_type": "markdown",
      "metadata": {
        "id": "nlECPUe9lya3"
      },
      "source": [
        "\n",
        "### Transforms and Dataset\n",
        "\n",
        "\n",
        "\n"
      ]
    },
    {
      "cell_type": "markdown",
      "metadata": {
        "id": "2u9e_pdv54nG"
      },
      "source": [
        "In this section the dataset is divided on train, validation and test set. Moreover data augmentation is performed, which leverages the functions in `refereces/detection` that we have just copied:\n"
      ]
    },
    {
      "cell_type": "code",
      "metadata": {
        "id": "l79ivkwKy357"
      },
      "source": [
        "import utils\n",
        "import transforms as T\n",
        "\n",
        "\n",
        "def get_transform(train):\n",
        "    transforms = []\n",
        "    # converts the image, a PIL image, into a PyTorch Tensor\n",
        "    transforms.append(T.ToTensor())\n",
        "    if train:\n",
        "        # during training, randomly flip the training images\n",
        "        # and ground-truth for data augmentation\n",
        "        transforms.append(T.RandomHorizontalFlip(0.5))\n",
        "    return T.Compose(transforms)"
      ],
      "execution_count": null,
      "outputs": []
    },
    {
      "cell_type": "code",
      "metadata": {
        "colab": {
          "base_uri": "https://localhost:8080/"
        },
        "id": "a5dGaIezze3y",
        "outputId": "bc43a258-3a65-408d-b5bb-e6c1aca1899d"
      },
      "source": [
        "# use our dataset and defined transformations\n",
        "dataset = PennFudanDataset('PennFudanPed', get_transform(train=True))\n",
        "dataset_val = PennFudanDataset('PennFudanPed', get_transform(train=False))\n",
        "dataset_test = PennFudanDataset('PennFudanPed', get_transform(train=False))\n",
        "\n",
        "\n",
        "# split the dataset in train (80%, 136 images), val and test set (10%, 17 images each)\n",
        "torch.manual_seed(1)\n",
        "indices = torch.randperm(len(dataset)).tolist()\n",
        "dataset = torch.utils.data.Subset(dataset, indices[:136])\n",
        "dataset_val = torch.utils.data.Subset(dataset_test, indices[136:-17])\n",
        "dataset_test = torch.utils.data.Subset(dataset_test, indices[-17:])\n",
        "\n",
        "# define training and validation data loaders\n",
        "data_loader = torch.utils.data.DataLoader(\n",
        "    dataset, batch_size=2, shuffle=True, num_workers=4,\n",
        "    collate_fn=utils.collate_fn)\n",
        "\n",
        "data_loader_val = torch.utils.data.DataLoader(\n",
        "    dataset_test, batch_size=1, shuffle=False, num_workers=4,\n",
        "    collate_fn=utils.collate_fn)\n",
        "\n",
        "data_loader_test = torch.utils.data.DataLoader(\n",
        "    dataset_test, batch_size=1, shuffle=False, num_workers=4,\n",
        "    collate_fn=utils.collate_fn)"
      ],
      "execution_count": null,
      "outputs": []
    },
    {
      "cell_type": "markdown",
      "metadata": {
        "id": "FzCLqiZk-sjf"
      },
      "source": [
        "Note that we do not need to add a mean/std normalization nor image rescaling in the data transforms, as those are handled internally by the Mask R-CNN model."
      ]
    },
    {
      "cell_type": "markdown",
      "metadata": {
        "id": "LesWKtl64ytj"
      },
      "source": [
        "### Finetuning the pretrained Mask R-CNN Model"
      ]
    },
    {
      "cell_type": "markdown",
      "metadata": {
        "id": "3YFJGJxk6XEs"
      },
      "source": [
        "#### With standard hyperparameters\n",
        "\n",
        "Since the dataset class and the data transforms have been defined, we can instantiate them and define the model.\n",
        "\n",
        "The hyperparameters used in this section to finetune the model are similar to the hyperparameters that were used to train initially the ResNet50"
      ]
    },
    {
      "cell_type": "code",
      "metadata": {
        "id": "YjNHjVMOyYlH"
      },
      "source": [
        "import torchvision\n",
        "from torchvision.models.detection.faster_rcnn import FastRCNNPredictor\n",
        "from torchvision.models.detection.mask_rcnn import MaskRCNNPredictor\n",
        "\n",
        "      \n",
        "def get_instance_segmentation_model(num_classes):\n",
        "    # load an instance segmentation model pre-trained on COCO\n",
        "    model = torchvision.models.detection.maskrcnn_resnet50_fpn(pretrained=True)\n",
        "\n",
        "    # get the number of input features for the classifier\n",
        "    in_features = model.roi_heads.box_predictor.cls_score.in_features\n",
        "    # replace the pre-trained head with a new one\n",
        "    model.roi_heads.box_predictor = FastRCNNPredictor(in_features, num_classes)\n",
        "\n",
        "    # now get the number of input features for the mask classifier\n",
        "    in_features_mask = model.roi_heads.mask_predictor.conv5_mask.in_channels\n",
        "    hidden_layer = 256\n",
        "    # and replace the mask predictor with a new one\n",
        "    model.roi_heads.mask_predictor = MaskRCNNPredictor(in_features_mask,\n",
        "                                                       hidden_layer,\n",
        "                                                       num_classes)\n",
        "\n",
        "    return model"
      ],
      "execution_count": null,
      "outputs": []
    },
    {
      "cell_type": "code",
      "metadata": {
        "colab": {
          "base_uri": "https://localhost:8080/",
          "height": 102,
          "referenced_widgets": [
            "225ac444a31a4568bf8521b40922924c",
            "2ebe15bbbe744844b7dc3c0393da493c",
            "c527779a60b5445a832449cfbe7f6a7d",
            "8967e0236c27482da42175d49eaca720",
            "cdc959f1c4f3497ea9398ec13b730a69",
            "4ccbafa9c60947d38d8a3a09801faa7d",
            "917c53c8b4e344978207f8afd6901e69",
            "e40305cc9d144049b72ee70edf06e427"
          ]
        },
        "id": "zoenkCj18C4h",
        "outputId": "6162618b-414f-4df9-c237-f13dda4d3e8d"
      },
      "source": [
        "device = torch.device('cuda') if torch.cuda.is_available() else torch.device('cpu')\n",
        "\n",
        "# our dataset has two classes only - background and person\n",
        "num_classes = 2\n",
        "\n",
        "# get the model using our helper function\n",
        "model = get_instance_segmentation_model(num_classes)\n",
        "# move model to the right device\n",
        "model.to(device)\n",
        "\n",
        "# construct an optimizer\n",
        "params = [p for p in model.parameters() if p.requires_grad]\n",
        "optimizer = torch.optim.SGD(params, lr=0.005,\n",
        "                            momentum=0.9, weight_decay=0.0005)\n",
        "\n",
        "# and a learning rate scheduler which decreases the learning rate by\n",
        "# 10x every 3 epochs\n",
        "lr_scheduler = torch.optim.lr_scheduler.StepLR(optimizer,\n",
        "                                               step_size=3,\n",
        "                                               gamma=0.1)"
      ],
      "execution_count": null,
      "outputs": []
    },
    {
      "cell_type": "markdown",
      "metadata": {
        "id": "XAd56lt4kDxc"
      },
      "source": [
        "The model is trained for 10 epochs, evaluating on the validation set at the end of every epoch."
      ]
    },
    {
      "cell_type": "code",
      "metadata": {
        "colab": {
          "base_uri": "https://localhost:8080/"
        },
        "id": "at-h4OWK0aoc",
        "outputId": "e3c9c62f-7c6c-48f5-b4ff-b70693c17a91"
      },
      "source": [
        "# The training is in this case 10 epochs\n",
        "num_epochs = 10\n",
        "metric_logger = None\n",
        "training_loss = np.zeros(num_epochs)\n",
        "for epoch in range(num_epochs):\n",
        "    # train for one epoch, printing every 10 iterations\n",
        "    metric_logger = train_one_epoch(model, optimizer, data_loader, device, epoch, print_freq=10)\n",
        "    training_loss[epoch] = metric_logger.loss.global_avg\n",
        "    # update the learning rate\n",
        "    lr_scheduler.step()\n",
        "    # evaluate on the val dataset\n",
        "    coco_val = evaluate(model, data_loader_val, device=device)\n",
        "\n",
        "# evaluate on the test dataset\n",
        "coco = evaluate(model, data_loader_test, device=device)"
      ],
      "execution_count": null,
      "outputs": []
    },
    {
      "cell_type": "markdown",
      "metadata": {
        "id": "yJzbr9gJg8oq"
      },
      "source": [
        "#### Alternative hyperparameters\n",
        "\n",
        "The same process is done for different hyperparameters and the results will be compared. In this case, the model is trained for 20 epoch with an ADAM optimizer."
      ]
    },
    {
      "cell_type": "code",
      "metadata": {
        "id": "oujx-PObgsP3"
      },
      "source": [
        "device = torch.device('cuda') if torch.cuda.is_available() else torch.device('cpu')\n",
        "\n",
        "# our dataset has two classes only - background and person\n",
        "num_classes = 2\n",
        "\n",
        "# get the model using our helper function\n",
        "model = get_instance_segmentation_model(num_classes)\n",
        "# move model to the right device\n",
        "model.to(device)\n",
        "\n",
        "# construct an optimizer\n",
        "params = [p for p in model.parameters() if p.requires_grad]\n",
        "new_optimizer = torch.optim.SGD(params, lr=0.001,\n",
        "                            momentum=0.9, weight_decay=0.005)\n",
        "\n",
        "# and a learning rate scheduler which decreases the learning rate by\n",
        "# 10x every 3 epochs\n",
        "new_lr_scheduler = torch.optim.lr_scheduler.StepLR(new_optimizer,\n",
        "                                               step_size=3,\n",
        "                                               gamma=0.1)"
      ],
      "execution_count": null,
      "outputs": []
    },
    {
      "cell_type": "code",
      "metadata": {
        "colab": {
          "background_save": true,
          "base_uri": "https://localhost:8080/"
        },
        "id": "jqaCPl4_g7q6",
        "outputId": "fc5a9b59-171b-45d1-d362-1137a24be9ba"
      },
      "source": [
        "# The number of epochs are 20 with the alternative parameters\n",
        "num_epochs = 20\n",
        "new_metric_logger = None\n",
        "new_training_loss = np.zeros(num_epochs)\n",
        "for epoch in range(num_epochs):\n",
        "    # train for one epoch, printing every 10 iterations\n",
        "    new_metric_logger = train_one_epoch(model, new_optimizer, data_loader, device, epoch, print_freq=10)\n",
        "    new_training_loss[epoch] = new_metric_logger.loss.global_avg\n",
        "    # update the learning rate\n",
        "    new_lr_scheduler.step()\n",
        "    # evaluate on the val dataset\n",
        "    new_coco_val = evaluate(model, data_loader_val, device=device)\n",
        "\n",
        "# evaluate on the test dataset\n",
        "new_coco = evaluate(model, data_loader_test, device=device)"
      ],
      "execution_count": null,
      "outputs": []
    },
    {
      "cell_type": "markdown",
      "metadata": {
        "id": "VK26zxHyXijt"
      },
      "source": [
        "#### Comparing both models to the original Mask R-CNN model"
      ]
    },
    {
      "cell_type": "markdown",
      "metadata": {
        "id": "iOviqoY1Xqf2"
      },
      "source": [
        "First the models trained on the Penn-Fudan Dataset are compared."
      ]
    },
    {
      "cell_type": "code",
      "metadata": {
        "colab": {
          "background_save": true
        },
        "id": "8Su2B7KIU91v",
        "outputId": "677f9ac5-7e4d-4454-e62b-8ff3bee0afeb"
      },
      "source": [
        "plt.subplot(2, 1, 1)\n",
        "plt.plot(training_loss, '-o', label='Standard training Loss')\n",
        "plt.plot(new_training_loss, '-o', label='Alternative training Loss')\n",
        "## Check bbox and segm losses training\n",
        "# plt.plot(test_logger, '-o', label='Validation Loss')\n",
        "plt.xlabel('Epoch')\n",
        "plt.ylabel('Loss')\n",
        "plt.legend(ncol=2,loc='upper center')\n",
        "\n",
        "plt.subplot(2, 1, 2)\n",
        "plt.scatter(0, coco.coco_eval[\"bbox\"].stats[0], label='Standard AP bbox')\n",
        "plt.scatter(0, coco.coco_eval[\"segm\"].stats[0], label='Standard AP segm')\n",
        "plt.scatter(1, new_coco.coco_eval[\"bbox\"].stats[0], label='Alternative AP bbox')\n",
        "plt.scatter(1, new_coco.coco_eval[\"segm\"].stats[0], label='Alternative AP segm')\n",
        "plt.xlabel('Optimizer')\n",
        "plt.ylabel('mAP')\n",
        "plt.legend(ncol=2,loc='lower center')\n",
        "plt.gcf().set_size_inches(15, 10)\n",
        "plt.show()"
      ],
      "execution_count": null,
      "outputs": []
    },
    {
      "cell_type": "markdown",
      "metadata": {
        "id": "XNwVGQAm63-z"
      },
      "source": [
        "As it is shown on the plots the training convergence is better on the original hyperparameters but the accuracy is better on the alternative hyperparameters"
      ]
    },
    {
      "cell_type": "markdown",
      "metadata": {
        "id": "O_UqAPSYX3o4"
      },
      "source": [
        "In the table extracted from the paper, a comparison is made between this models and the original one trained on the COCO Dataset. The performance of the model on the Penn-Fudan dataset is outstanding but it should be taken into account that the dataset is simpler as the dataset used in the original model.\n",
        "\n",
        "![Table_Performance.png](data:image/png;base64,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)"
      ]
    },
    {
      "cell_type": "markdown",
      "metadata": {
        "id": "cdrTLbNthFYz"
      },
      "source": [
        "#### Printing results of the finetuning"
      ]
    },
    {
      "cell_type": "markdown",
      "metadata": {
        "id": "Z6mYGFLxkO8F"
      },
      "source": [
        "Now that training has finished, let's have a look at what it actually predicts in a test image"
      ]
    },
    {
      "cell_type": "code",
      "metadata": {
        "colab": {
          "background_save": true
        },
        "id": "YHwIdxH76uPj"
      },
      "source": [
        "# pick one image from the test set\n",
        "img, _ = dataset_test[8]\n",
        "# put the model in evaluation mode\n",
        "model.eval()\n",
        "with torch.no_grad():\n",
        "    prediction = model([img.to(device)])"
      ],
      "execution_count": null,
      "outputs": []
    },
    {
      "cell_type": "markdown",
      "metadata": {
        "id": "DmN602iKsuey"
      },
      "source": [
        "Printing the prediction shows that we have a list of dictionaries. Each element of the list corresponds to a different image. As we have a single image, there is a single dictionary in the list.\n",
        "The dictionary contains the predictions for the image we passed. In this case, we can see that it contains `boxes`, `labels`, `masks` and `scores` as fields."
      ]
    },
    {
      "cell_type": "code",
      "metadata": {
        "colab": {
          "background_save": true
        },
        "id": "Lkmb3qUu6zw3",
        "outputId": "d2a05cd3-2d7d-43e5-f4cf-0a6819defacd"
      },
      "source": [
        "prediction"
      ],
      "execution_count": null,
      "outputs": []
    },
    {
      "cell_type": "markdown",
      "metadata": {
        "id": "RwT21rzotFbH"
      },
      "source": [
        "Let's inspect the image and the predicted segmentation masks.\n",
        "\n",
        "For that, we need to convert the image, which has been rescaled to 0-1 and had the channels flipped so that we have it in `[C, H, W]` format."
      ]
    },
    {
      "cell_type": "code",
      "metadata": {
        "colab": {
          "background_save": true
        },
        "id": "bpqN9t1u7B2J",
        "outputId": "5880d01b-924b-4907-b7e4-c8eb1ba3109b"
      },
      "source": [
        "Image.fromarray(img.mul(255).permute(1, 2, 0).byte().numpy())"
      ],
      "execution_count": null,
      "outputs": []
    },
    {
      "cell_type": "markdown",
      "metadata": {
        "id": "M58J3O9OtT1G"
      },
      "source": [
        "And let's now visualize the top predicted segmentation mask. The masks are predicted as `[N, 1, H, W]`, where `N` is the number of predictions, and are probability maps between 0-1."
      ]
    },
    {
      "cell_type": "code",
      "metadata": {
        "colab": {
          "background_save": true
        },
        "id": "RtUIrL2MLi7M",
        "outputId": "3e77f59a-1932-4101-f29d-0ac8d5f0b689"
      },
      "source": [
        "Image.fromarray(prediction[0]['masks'][0, 0].mul(255).byte().cpu().numpy())"
      ],
      "execution_count": null,
      "outputs": []
    },
    {
      "cell_type": "markdown",
      "metadata": {
        "id": "XASJrokA7UaM"
      },
      "source": [
        "We can combine the image and the mask to have a better visualization of the model"
      ]
    },
    {
      "cell_type": "code",
      "metadata": {
        "colab": {
          "background_save": true
        },
        "id": "5v5S3bm07SO1",
        "outputId": "279d43e5-d4f0-4c98-e7d5-0193c49a8b1e"
      },
      "source": [
        "col = torch.tensor([[255, 0, 60], [0, 200, 60], [150, 60, 0], [0, 0, 205], [250, 250, 0]])\n",
        "mask_array = torch.zeros((img.size()[1:]))\n",
        "image_array = img.mul(255)\n",
        "combination = 0.6 * image_array\n",
        "\n",
        "for i in range(5):\n",
        "    try: \n",
        "        for j in range(3):\n",
        "            combination[j] += 0.4 * col[i][j] * (prediction[0]['masks'][i, 0].mul(255) > 150).cpu() \n",
        "    except IndexError:\n",
        "        pass\n",
        "\n",
        "Image.fromarray(combination.permute(1, 2, 0).byte().numpy())"
      ],
      "execution_count": null,
      "outputs": []
    },
    {
      "cell_type": "markdown",
      "metadata": {
        "id": "xCugDXMaOci_"
      },
      "source": [
        "### Using SqueezeNet for Object recognition\n",
        "\n",
        "We can use the pretrained SqueezeNet model as a backbone for the Faster R-CNN algorithm. The training hyperparameters are the stardard hyperparameters in the finetuning"
      ]
    },
    {
      "cell_type": "code",
      "metadata": {
        "colab": {
          "background_save": true,
          "referenced_widgets": [
            "ceda48fac02c4841a0a20878fb859216"
          ]
        },
        "id": "nsvDQKzlOhgX",
        "outputId": "89036587-b474-4ca1-d745-0f1c318a5724"
      },
      "source": [
        "import torchvision\n",
        "from torchvision.models.detection import FasterRCNN\n",
        "from torchvision.models.detection.rpn import AnchorGenerator\n",
        "\n",
        "\n",
        " \n",
        "# load a pre-trained model for classification and return\n",
        "# only the features\n",
        "backbone = torch.hub.load('pytorch/vision:v0.9.0', 'squeezenet1_1', pretrained=True).features\n",
        "# FasterRCNN needs to know the number of\n",
        "# output channels in a backbone. For SqueezeNet, it's 1000\n",
        "# so we need to add it here\n",
        "backbone.out_channels = 512\n",
        " \n",
        "# let's make the RPN generate 5 x 3 anchors per spatial\n",
        "# location, with 5 different sizes and 3 different aspect\n",
        "# ratios. We have a Tuple[Tuple[int]] because each feature\n",
        "# map could potentially have different sizes and\n",
        "# aspect ratios \n",
        "anchor_generator = AnchorGenerator(sizes=((32, 64, 128, 256, 512),),\n",
        "                                   aspect_ratios=((0.5, 1.0, 2.0),))\n",
        " \n",
        "# let's define what are the feature maps that we will\n",
        "# use to perform the region of interest cropping, as well as\n",
        "# the size of the crop after rescaling.\n",
        "# if your backbone returns a Tensor, featmap_names is expected to\n",
        "# be [0]. More generally, the backbone should return an\n",
        "# OrderedDict[Tensor], and in featmap_names you can choose which\n",
        "# feature maps to use.\n",
        "roi_pooler = torchvision.ops.MultiScaleRoIAlign(featmap_names=[\"0\"],\n",
        "                                                output_size=7,\n",
        "                                                sampling_ratio=2)\n",
        " \n",
        "# put the pieces together inside a FasterRCNN model\n",
        "model = FasterRCNN(backbone,\n",
        "                   num_classes=2,\n",
        "                   rpn_anchor_generator=anchor_generator,\n",
        "                   box_roi_pool=roi_pooler)\n",
        "\n",
        "# now get the number of input features for the mask classifier\n",
        "#in_features_mask = model.roi_heads.mask_predictor.conv5_mask.in_channels\n",
        "#hidden_layer = 256\n",
        "# and replace the mask predictor with a new one\n",
        "#model.roi_heads.mask_predictor = MaskRCNNPredictor(in_features_mask,\n",
        "#                                                       hidden_layer,\n",
        "#                                                       num_classes)"
      ],
      "execution_count": null,
      "outputs": []
    },
    {
      "cell_type": "code",
      "metadata": {
        "colab": {
          "background_save": true
        },
        "id": "ZtX1d4FVpTr-"
      },
      "source": [
        "device = torch.device('cuda') if torch.cuda.is_available() else torch.device('cpu')\n",
        "\n",
        "# move model to the right device\n",
        "model.to(device)\n",
        "\n",
        "# construct an optimizer\n",
        "params = [p for p in model.parameters() if p.requires_grad]\n",
        "optimizer = torch.optim.SGD(params, lr=0.005, momentum=0.9, weight_decay=0.005)\n",
        "\n",
        "# and a learning rate scheduler which decreases the learning rate by\n",
        "# 10x every 3 epochs\n",
        "lr_scheduler = torch.optim.lr_scheduler.StepLR(optimizer,\n",
        "                                               step_size=3,\n",
        "                                               gamma=0.1)"
      ],
      "execution_count": null,
      "outputs": []
    },
    {
      "cell_type": "code",
      "metadata": {
        "colab": {
          "background_save": true
        },
        "id": "vjNTQ4JCpSx0",
        "outputId": "41efd2af-6261-47e7-8f50-e74d0114c068"
      },
      "source": [
        "# The number of training epochs are chosen to 10 in this case\n",
        "num_epochs = 10\n",
        "metric_logger_squeeze = None\n",
        "training_loss_squeeze = np.zeros(num_epochs)\n",
        "for epoch in range(num_epochs):\n",
        "    # train for one epoch, printing every 10 iterations\n",
        "    metric_logger_squeeze = train_one_epoch(model, optimizer, data_loader, device, epoch, print_freq=10)\n",
        "    training_loss_squeeze[epoch] = metric_logger_squeeze.loss.global_avg\n",
        "    # update the learning rate\n",
        "    lr_scheduler.step()\n",
        "    # evaluate on the val dataset\n",
        "    coco_squeeze_val = evaluate(model, data_loader_val, device=device)\n",
        "\n",
        "# evaluate on the test dataset\n",
        "coco_squeeze = evaluate(model, data_loader_test, device=device)"
      ],
      "execution_count": null,
      "outputs": []
    },
    {
      "cell_type": "markdown",
      "metadata": {
        "id": "kM994TMFAILX"
      },
      "source": [
        "### Final comparison between finetuning and changing the backbone with SqueezeNet"
      ]
    },
    {
      "cell_type": "code",
      "metadata": {
        "colab": {
          "background_save": true
        },
        "id": "gWsW9apxAJog",
        "outputId": "5792ecaa-6c31-44b7-fdd5-598d207e9ea9"
      },
      "source": [
        "print(coco_squeeze.coco_eval[\"bbox\"].stats[0])\n",
        "plt.subplot(1, 1, 1)\n",
        "plt.plot(training_loss, '-o', label='Training Loss with ResNet50')\n",
        "plt.plot(training_loss_squeeze, '-o', label='Training Loss with SqueezeNet')\n",
        "## Check bbox and segm losses training\n",
        "plt.xlabel('Epoch')\n",
        "plt.ylabel('Loss')\n",
        "plt.legend(ncol=2,loc='upper center')\n",
        "plt.gcf().set_size_inches(15, 10)\n",
        "plt.show()"
      ],
      "execution_count": null,
      "outputs": []
    },
    {
      "cell_type": "markdown",
      "metadata": {
        "id": "MlTRcTAaVCu4"
      },
      "source": [
        "In the training loss plot it can be seen that the error is smaller in the Mask R-CNN model with the ResNet-50 backbone. However the important metric is the average precision of the bounding boxes on the test set. The average precision is shown in this table taken from the paper.\n",
        "![Table_Backbones.png](data:image/png;base64,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)\n"
      ]
    },
    {
      "cell_type": "markdown",
      "metadata": {
        "id": "8P809bMDWg7I"
      },
      "source": [
        "As explained in the paper, the SqueezeNet backbone has however a lower processing time and memory usage which could be useful for some applications. \n",
        "\n",
        "\"The training time per epoch of the Mask R-CNN model with ResNet-50 was 01:45minutes while the time of the Faster R-CNN model with SqueezeNet was 00:21 minutes.The  test  time  per  image  was  0.3455  seconds  (2.89  FPS)  for  the  Mask  R-CNN  withResNet-50 and 0.0714 seconds (14 FPS) for the Faster R-CNN model with SqueezeNet.\""
      ]
    }
  ]
}